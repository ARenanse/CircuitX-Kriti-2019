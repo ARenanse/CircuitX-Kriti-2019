{
 "cells": [
  {
   "cell_type": "markdown",
   "metadata": {},
   "source": [
    "# Kriti CircuitX"
   ]
  },
  {
   "cell_type": "code",
   "execution_count": 23,
   "metadata": {},
   "outputs": [],
   "source": [
    "def input_locations(matrix2x2):\n",
    "    input_matrix = matrix2x2[:,:2]\n",
    "    types_matrix = (input_matrix/10).astype(int)\n",
    "    return (types_matrix == 8) | (types_matrix == 9) | (types_matrix == 10)"
   ]
  },
  {
   "cell_type": "code",
   "execution_count": 24,
   "metadata": {},
   "outputs": [],
   "source": [
    "import numpy as np\n",
    "matrix2 = np.array([[91,81,11],[11,0,111]])#,[92,101,12],[41,51,13],[102,82,21],[21,12,41],[12,11,51],[13,0,111]])"
   ]
  },
  {
   "cell_type": "code",
   "execution_count": 25,
   "metadata": {},
   "outputs": [
    {
     "data": {
      "text/plain": [
       "array([[ 91,  81,  11],\n",
       "       [ 11,   0, 111]])"
      ]
     },
     "execution_count": 25,
     "metadata": {},
     "output_type": "execute_result"
    }
   ],
   "source": [
    "matrix2"
   ]
  },
  {
   "cell_type": "code",
   "execution_count": 26,
   "metadata": {},
   "outputs": [
    {
     "data": {
      "text/plain": [
       "array([[ True,  True],\n",
       "       [ True,  True],\n",
       "       [False, False],\n",
       "       [ True,  True],\n",
       "       [False, False],\n",
       "       [False, False],\n",
       "       [False, False]])"
      ]
     },
     "execution_count": 26,
     "metadata": {},
     "output_type": "execute_result"
    }
   ],
   "source": [
    "input_locations(matrix) "
   ]
  },
  {
   "cell_type": "code",
   "execution_count": 5,
   "metadata": {},
   "outputs": [],
   "source": [
    "def unique_init_inputs(matrix2x2):\n",
    "    input_loc = input_locations(matrix2x2)\n",
    "    total_unique_inputs = np.any((matrix2x2/10).astype(int) == 8).astype(int) + np.any((matrix2x2/10).astype(int) == 9).astype(int) + np.any((matrix2x2/10).astype(int) == 10).astype(int)\n",
    "    mask_red = (matrix2x2/10).astype(int) == 8\n",
    "    mask_green = (matrix2x2/10).astype(int) == 9\n",
    "    mask_blue = (matrix2x2/10).astype(int) == 10\n",
    "    return total_unique_inputs,[mask_red,mask_green,mask_blue]"
   ]
  },
  {
   "cell_type": "markdown",
   "metadata": {},
   "source": [
    "##### *input_counter* is working correctly"
   ]
  },
  {
   "cell_type": "code",
   "execution_count": 6,
   "metadata": {},
   "outputs": [],
   "source": [
    "def all_possible_inp_maker(matrix2x2):\n",
    "    total_inps,_ = unique_init_inputs(matrix2x2)  #This was to find the no. of all the inputs which was WRONG\n",
    "    arr = np.zeros(total_inps)\n",
    "    all_bin_list = []\n",
    "    for i in range(np.power(2,total_inps)):\n",
    "        bin_string = bin(i)[2:].rjust(total_inps,'0')\n",
    "        all_bin_list.append([i for i in bin_string])\n",
    "    return np.array(all_bin_list).astype(int)"
   ]
  },
  {
   "cell_type": "code",
   "execution_count": 22,
   "metadata": {},
   "outputs": [
    {
     "data": {
      "text/plain": [
       "array([[0, 0, 0],\n",
       "       [0, 0, 1],\n",
       "       [0, 1, 0],\n",
       "       [0, 1, 1],\n",
       "       [1, 0, 0],\n",
       "       [1, 0, 1],\n",
       "       [1, 1, 0],\n",
       "       [1, 1, 1]])"
      ]
     },
     "execution_count": 22,
     "metadata": {},
     "output_type": "execute_result"
    }
   ],
   "source": [
    "all_possible_inp_maker(matrix)"
   ]
  },
  {
   "cell_type": "code",
   "execution_count": 8,
   "metadata": {},
   "outputs": [],
   "source": [
    "def input_value_putter(matrix2x2,vector_to_put):\n",
    "    unique_inputs, masks = unique_init_inputs(matrix2x2)\n",
    "    new_matrix = np.zeros_like(matrix2x2)\n",
    "    for i in range(unique_inputs):\n",
    "        new_matrix[masks[i]] = vector_to_put[i]\n",
    "    return new_matrix    "
   ]
  },
  {
   "cell_type": "markdown",
   "metadata": {},
   "source": [
    "# Create a while  loop, over the matrix made by removing input rows after their outputs are put in the right places"
   ]
  },
  {
   "cell_type": "code",
   "execution_count": 9,
   "metadata": {},
   "outputs": [],
   "source": [
    "def output_generator_4_inputs(matrix2x2, binary_vector):\n",
    "    \n",
    "    #Where's binary_vector????           Tick\n",
    "    \n",
    "#Initial Evaluation directly from inputs    \n",
    "    \n",
    "    matrix_4_op = input_value_putter(matrix2x2,binary_vector)\n",
    "    out_mat = matrix_4_op\n",
    "    input_loc = input_locations(matrix2x2)\n",
    "    cache = np.zeros_like(input_loc).astype(bool)\n",
    "#INITIALIZE THE INPUT FOR THE NOT GATES    \n",
    "    for i,val in np.ndenumerate(matrix2x2[:,2]):\n",
    "            if int(val/10) == 7:\n",
    "                if input_loc[i,0] == True:\n",
    "                    input_loc[i,1] = True        \n",
    "        \n",
    "\n",
    "    \n",
    "    for i in range(matrix_4_op.shape[0]):\n",
    "        if input_loc[i,0]:\n",
    "    \n",
    "            if int(matrix2x2[i,2]/10) == 1:\n",
    "                out_mat[i,2] = out_mat[i,0] and out_mat[i,1]\n",
    "            elif int(matrix2x2[i,2]/10) == 2:\n",
    "                out_mat[i,2] = out_mat[i,0] or out_mat[i,1]\n",
    "            elif int(matrix2x2[i,2]/10) == 3:\n",
    "                out_mat[i,2] = not(out_mat[i,0] and out_mat[i,1])\n",
    "            elif int(matrix2x2[i,2]/10) == 4:\n",
    "                out_mat[i,2] = not(out_mat[i,0] or out_mat[i,1])\n",
    "            elif int(matrix2x2[i,2]/10) == 5:\n",
    "                out_mat[i,2] = out_mat[i,0] ^ out_mat[i,1]\n",
    "            elif int(matrix2x2[i,2]/10) == 6:\n",
    "                out_mat[i,2] = not(out_mat[i,0] ^ out_mat[i,1])\n",
    "            elif int(matrix2x2[i,2]/10) == 7:\n",
    "                out_mat[i,2] = not(out_mat[i,0])\n",
    "            \n",
    "        #checking 111, i.e output\n",
    "        \n",
    "            #elif int(matrix_4_op[i,2]) == 111:\n",
    "             #   output = matrix_4_op[i,2]\n",
    "                \n",
    "    count = 0\n",
    "    #print(input_loc,out_mat)\n",
    "    while True:\n",
    "        count+=1\n",
    "#PUT OUTPUT TO NEXT INPUTS\n",
    "        #inserting the values just calculated, in out_mat to the specefic locations in the two input columns::-- \n",
    "        for i,outs in np.ndenumerate(matrix2x2[:,2]):\n",
    "            if input_loc[i,0] & input_loc[i,1]:\n",
    "                out_mat[:,:2][matrix2x2[:,:2] == outs] = out_mat[:,2][matrix2x2[:,2] == outs]\n",
    " \n",
    "        #Check the fucking pairs and initialize the input_loc again\n",
    "#SIMILARILY, UPDATE THE input_loc BOOL TABLE                                                            \n",
    "        pairs_loc = input_loc[:,0] & input_loc[:,1]\n",
    "#Long Term Memory    \n",
    "        input_loc = np.zeros_like(input_loc).astype(bool) \n",
    "        for i in range(cache.shape[0]):\n",
    "            if (((cache[i,0] ==True) & (cache[i,1]==False))) :#| ((cache[i,0] ==True) & (cache[i,1]==False))):\n",
    "                input_loc[i,0] = True\n",
    "            elif (((cache[i,0] ==False) & (cache[i,1]==True))):\n",
    "                input_loc[i,1] = True\n",
    "         \n",
    "        for i,val in np.ndenumerate(pairs_loc):\n",
    "            if val:\n",
    "                input_loc[matrix2x2[:,:2] == matrix2x2[i,2]] = True\n",
    "                \n",
    "                \n",
    "#Checks whether the next input is for NOT gate, AND IF IT IS, PUT A TRUE ON IT'S NEXT ROW TOO (I know it's an inefficient implementation!!)    \n",
    "        for i,val in np.ndenumerate(matrix2x2[:,2]):\n",
    "            if int(val/10) == 7:\n",
    "                if input_loc[i,0] == True:\n",
    "                    input_loc[i,1] = True        \n",
    "\n",
    "            \n",
    "#LOOP BREAKING CONDITION            \n",
    "        #Below Condition is for the breaking from the loop when the corresponding row in which the flow is have output as '111'    \n",
    "            \n",
    "        if np.any(matrix2x2[input_loc[:,0] == True][:,2] == 111):\n",
    "            output = out_mat[:,0][matrix2x2[:,2] == 111]\n",
    "            break\n",
    "        \n",
    "#CALCULATE NEXT OUTPUTS        \n",
    "        #Now, the new pairs are made (if there's any) and now we need to calculate the new outputs to put in out_mat\n",
    "        \n",
    "        for i in range(matrix_4_op.shape[0]):\n",
    "            if input_loc[i,0] & input_loc[i,1]:\n",
    "\n",
    "                if int(matrix2x2[i,2]/10) == 1:\n",
    "                    out_mat[i,2] = out_mat[i,0] and out_mat[i,1]\n",
    "                elif int(matrix2x2[i,2]/10) == 2:\n",
    "                    out_mat[i,2] = out_mat[i,0] or out_mat[i,1]\n",
    "                elif int(matrix2x2[i,2]/10) == 3:\n",
    "                    out_mat[i,2] = not(out_mat[i,0] and out_mat[i,1])\n",
    "                elif int(matrix2x2[i,2]/10) == 4:\n",
    "                    out_mat[i,2] = not(out_mat[i,0] or out_mat[i,1])\n",
    "                elif int(matrix2x2[i,2]/10) == 5:\n",
    "                    out_mat[i,2] = out_mat[i,0] ^ out_mat[i,1]\n",
    "                elif int(matrix2x2[i,2]/10) == 6:\n",
    "                    out_mat[i,2] = not(out_mat[i,0] ^ out_mat[i,1])\n",
    "                elif int(matrix2x2[i,2]/10) == 7:\n",
    "                    out_mat[i,2] = not(out_mat[i,0])\n",
    "        \n",
    "        #verb_count+=1\n",
    "        #print('While Loop number {}'.format(verb_count))\n",
    "    \n",
    "        #print(input_loc,out_mat)\n",
    "        if count==1:\n",
    "            cache = input_loc\n",
    "    return output,out_mat,input_loc\n",
    "    \n",
    "    #After this the input_pair_matrix[:,:2] will be filled by 1's where the pairs are there.    \n",
    "        "
   ]
  },
  {
   "cell_type": "code",
   "execution_count": 10,
   "metadata": {},
   "outputs": [
    {
     "data": {
      "text/plain": [
       "array([[ 91,  81,  11],\n",
       "       [ 92, 101,  12],\n",
       "       [ 41,  51,  13],\n",
       "       [102,  82,  21],\n",
       "       [ 21,  12,  41],\n",
       "       [ 12,  11,  51],\n",
       "       [ 13,   0, 111]])"
      ]
     },
     "execution_count": 10,
     "metadata": {},
     "output_type": "execute_result"
    }
   ],
   "source": [
    "matrix"
   ]
  },
  {
   "cell_type": "code",
   "execution_count": 11,
   "metadata": {},
   "outputs": [],
   "source": [
    "def truth_table_generator(matrix2x2):\n",
    "    binary_vectorS = all_possible_inp_maker(matrix2x2)\n",
    "    TT = []\n",
    "    for i in range(binary_vectorS.shape[0]):\n",
    "        output, _ , _ = output_generator_4_inputs(matrix2x2,binary_vectorS[i])\n",
    "        TT.append([binary_vectorS[i],output])\n",
    "    print(\"Outputs:\")\n",
    "    print(\"Red | Green | Blue ::: OUTPUT\")\n",
    "    return np.array(TT)"
   ]
  },
  {
   "cell_type": "code",
   "execution_count": 14,
   "metadata": {},
   "outputs": [
    {
     "name": "stdout",
     "output_type": "stream",
     "text": [
      "Outputs:\n",
      "Red | Green | Blue ::: OUTPUT\n"
     ]
    },
    {
     "data": {
      "text/plain": [
       "array([[array([0, 0]), array([1])],\n",
       "       [array([0, 1]), array([0])],\n",
       "       [array([1, 0]), array([0])],\n",
       "       [array([1, 1]), array([0])]], dtype=object)"
      ]
     },
     "execution_count": 14,
     "metadata": {},
     "output_type": "execute_result"
    }
   ],
   "source": [
    "(truth_table_generator(matrix1))"
   ]
  },
  {
   "cell_type": "code",
   "execution_count": 12,
   "metadata": {},
   "outputs": [],
   "source": [
    "matrix1 = np.array([[81,91,21],\n",
    "                    [82,0,71],\n",
    "                    [71,21,61],\n",
    "                    [61,0,72],\n",
    "                    [72,71,11],\n",
    "                    [11,0,111]]\n",
    "                    )"
   ]
  },
  {
   "cell_type": "code",
   "execution_count": 17,
   "metadata": {},
   "outputs": [
    {
     "data": {
      "text/plain": [
       "array([[ 81,  91,  21],\n",
       "       [ 82,   0,  71],\n",
       "       [ 71,  21,  61],\n",
       "       [ 61,   0,  72],\n",
       "       [ 72,  71,  11],\n",
       "       [ 11,   0, 111]])"
      ]
     },
     "execution_count": 17,
     "metadata": {},
     "output_type": "execute_result"
    }
   ],
   "source": [
    "matrix1"
   ]
  },
  {
   "cell_type": "code",
   "execution_count": 15,
   "metadata": {},
   "outputs": [
    {
     "data": {
      "text/plain": [
       "(array([[ True,  True],\n",
       "        [ True, False],\n",
       "        [False, False],\n",
       "        [False, False],\n",
       "        [False, False],\n",
       "        [False, False]]),)"
      ]
     },
     "execution_count": 15,
     "metadata": {},
     "output_type": "execute_result"
    }
   ],
   "source": [
    "input_locations(matrix1),"
   ]
  },
  {
   "cell_type": "code",
   "execution_count": 16,
   "metadata": {},
   "outputs": [],
   "source": [
    "input_loc = input_locations(matrix1)"
   ]
  },
  {
   "cell_type": "code",
   "execution_count": 27,
   "metadata": {},
   "outputs": [],
   "source": [
    "import KritiCXLogicDeducer"
   ]
  },
  {
   "cell_type": "code",
   "execution_count": 29,
   "metadata": {},
   "outputs": [
    {
     "name": "stdout",
     "output_type": "stream",
     "text": [
      "Outputs:\n",
      "['Red', 'Green']\n"
     ]
    },
    {
     "data": {
      "text/plain": [
       "array([[array([0, 0]), array([0])],\n",
       "       [array([0, 1]), array([0])],\n",
       "       [array([1, 0]), array([0])],\n",
       "       [array([1, 1]), array([1])]], dtype=object)"
      ]
     },
     "execution_count": 29,
     "metadata": {},
     "output_type": "execute_result"
    }
   ],
   "source": [
    "KritiCXLogicDeducer.truth_table_generator(matrix2)"
   ]
  },
  {
   "cell_type": "code",
   "execution_count": 31,
   "metadata": {},
   "outputs": [],
   "source": [
    "struct = np.array([[91,81,41],[0,0,111]])"
   ]
  },
  {
   "cell_type": "code",
   "execution_count": 34,
   "metadata": {},
   "outputs": [],
   "source": [
    "struct[-1,:]\n",
    "num_rows = struct.shape[0]"
   ]
  },
  {
   "cell_type": "code",
   "execution_count": 40,
   "metadata": {},
   "outputs": [],
   "source": [
    "sec_last_elem  =  struct[num_rows-2,2]"
   ]
  },
  {
   "cell_type": "code",
   "execution_count": 41,
   "metadata": {},
   "outputs": [
    {
     "data": {
      "text/plain": [
       "41"
      ]
     },
     "execution_count": 41,
     "metadata": {},
     "output_type": "execute_result"
    }
   ],
   "source": [
    "sec_last_elem"
   ]
  },
  {
   "cell_type": "code",
   "execution_count": 42,
   "metadata": {},
   "outputs": [],
   "source": [
    "struct[-1,0] = struct[struct.shape[0]-2,2]"
   ]
  },
  {
   "cell_type": "code",
   "execution_count": 43,
   "metadata": {},
   "outputs": [
    {
     "data": {
      "text/plain": [
       "array([[ 91,  81,  41],\n",
       "       [ 41,   0, 111]])"
      ]
     },
     "execution_count": 43,
     "metadata": {},
     "output_type": "execute_result"
    }
   ],
   "source": [
    "struct"
   ]
  },
  {
   "cell_type": "code",
   "execution_count": null,
   "metadata": {},
   "outputs": [],
   "source": []
  }
 ],
 "metadata": {
  "kernelspec": {
   "display_name": "Python 3",
   "language": "python",
   "name": "python3"
  },
  "language_info": {
   "codemirror_mode": {
    "name": "ipython",
    "version": 3
   },
   "file_extension": ".py",
   "mimetype": "text/x-python",
   "name": "python",
   "nbconvert_exporter": "python",
   "pygments_lexer": "ipython3",
   "version": "3.6.5"
  }
 },
 "nbformat": 4,
 "nbformat_minor": 4
}
